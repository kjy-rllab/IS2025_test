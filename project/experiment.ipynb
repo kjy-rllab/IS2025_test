{
 "cells": [
  {
   "cell_type": "code",
   "execution_count": 39,
   "metadata": {},
   "outputs": [],
   "source": [
    "import torch\n",
    "import joblib"
   ]
  },
  {
   "cell_type": "code",
   "execution_count": 40,
   "metadata": {},
   "outputs": [],
   "source": [
    "from TD3_BC import *"
   ]
  },
  {
   "cell_type": "code",
   "execution_count": 41,
   "metadata": {},
   "outputs": [],
   "source": [
    "model = TD3_BC(state_dim=720, action_dim=2,max_action=1.0)"
   ]
  },
  {
   "cell_type": "code",
   "execution_count": 42,
   "metadata": {},
   "outputs": [
    {
     "data": {
      "text/plain": [
       "array([0.1484836 , 0.03624895], dtype=float32)"
      ]
     },
     "execution_count": 42,
     "metadata": {},
     "output_type": "execute_result"
    }
   ],
   "source": [
    "##How to sample\n",
    "model.select_action(torch.rand(720,))"
   ]
  },
  {
   "cell_type": "code",
   "execution_count": 43,
   "metadata": {},
   "outputs": [],
   "source": [
    "##Preprocess Data\n",
    "obs_data = joblib.load(\"./trajectory/obs_list_map1.pkl\")\n",
    "act_data = joblib.load(\"./trajectory/act_list_map1.pkl\")"
   ]
  },
  {
   "cell_type": "code",
   "execution_count": 44,
   "metadata": {},
   "outputs": [
    {
     "name": "stdout",
     "output_type": "stream",
     "text": [
      "(4598, 720)\n",
      "(4598, 2)\n"
     ]
    }
   ],
   "source": [
    "print(obs_data.shape)\n",
    "print(act_data.shape)"
   ]
  },
  {
   "cell_type": "code",
   "execution_count": 51,
   "metadata": {},
   "outputs": [],
   "source": [
    "time_step_reward = -0.01\n",
    "success_reward = 100\n",
    "fail_reward = -100\n",
    "\n",
    "obs_data_curr= obs_data[:-1,:]\n",
    "obs_data_next= obs_data[1:,:]\n",
    "act_data = act_data[:-1,:]\n",
    "rew = torch.ones(act_data.shape[0])*time_step_reward\n",
    "rew[-1] = success_reward\n",
    "done_arr = torch.zeros(act_data.shape[0])\n",
    "done_arr[-1] = 1"
   ]
  },
  {
   "cell_type": "code",
   "execution_count": 52,
   "metadata": {},
   "outputs": [
    {
     "data": {
      "text/plain": [
       "(4597, 720)"
      ]
     },
     "execution_count": 52,
     "metadata": {},
     "output_type": "execute_result"
    }
   ],
   "source": [
    "obs_data_curr.shape"
   ]
  },
  {
   "cell_type": "code",
   "execution_count": 53,
   "metadata": {},
   "outputs": [],
   "source": [
    "dataset = {}\n",
    "dataset['observations'] = obs_data_curr\n",
    "dataset['actions'] = act_data\n",
    "dataset['next_observations'] = obs_data_next\n",
    "dataset['rewards'] = rew\n",
    "dataset['terminals'] = done_arr\n"
   ]
  },
  {
   "cell_type": "code",
   "execution_count": 54,
   "metadata": {},
   "outputs": [],
   "source": [
    "from utils import *"
   ]
  },
  {
   "cell_type": "code",
   "execution_count": 55,
   "metadata": {},
   "outputs": [],
   "source": [
    "buffer = ReplayBuffer(state_dim=720,action_dim=2)"
   ]
  },
  {
   "cell_type": "code",
   "execution_count": 59,
   "metadata": {},
   "outputs": [],
   "source": [
    "buffer.convert_trajectory_data(dataset)"
   ]
  },
  {
   "cell_type": "code",
   "execution_count": 69,
   "metadata": {},
   "outputs": [
    {
     "name": "stdout",
     "output_type": "stream",
     "text": [
      "tensor([[0.9077, 0.9077, 0.9077,  ..., 1.3955, 1.3955, 1.3955],\n",
      "        [1.3110, 1.3110, 1.3110,  ..., 0.8483, 0.8483, 0.8483],\n",
      "        [1.4071, 1.4071, 1.4422,  ..., 0.8198, 0.8198, 0.8198],\n",
      "        ...,\n",
      "        [1.4506, 1.4506, 1.4506,  ..., 0.7712, 0.7712, 0.7712],\n",
      "        [0.9286, 0.9286, 1.0058,  ..., 1.2558, 1.2558, 1.2558],\n",
      "        [1.3813, 1.3813, 1.3813,  ..., 0.7940, 0.7940, 0.7940]])\n"
     ]
    }
   ],
   "source": [
    "ex_sample = buffer.sample(128)\n",
    "print(ex_sample[0])\n",
    "#0 : curr state / 1: action / 2: next state / 3: reward / 4: done"
   ]
  }
 ],
 "metadata": {
  "kernelspec": {
   "display_name": "rccar",
   "language": "python",
   "name": "python3"
  },
  "language_info": {
   "name": "python",
   "version": "3.8.20"
  }
 },
 "nbformat": 4,
 "nbformat_minor": 2
}
